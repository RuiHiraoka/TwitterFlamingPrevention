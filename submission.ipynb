{
 "cells": [
  {
   "cell_type": "code",
   "execution_count": null,
   "metadata": {
    "collapsed": true
   },
   "outputs": [],
   "source": [
    "from requests_oauthlib import OAuth1Session\n",
    "\n",
    "CK = 'XXXXXXXXXXXXXXXXXXXXXX'                             # Consumer Key\n",
    "CS = 'XXXXXXXXXXXXXXXXXXXXXXXXXXXXXXXXXXXXXXXXXX'         # Consumer Secret\n",
    "AT = 'XXXXXXXXX-XXXXXXXXXXXXXXXXXXXXXXXXXXXXXXXXXXXXXXXX' # Access Token\n",
    "AS = 'XXXXXXXXXXXXXXXXXXXXXXXXXXXXXXXXXXXXXXXXXX'         # Accesss Token Secert\n",
    "\n",
    "# ツイート投稿用のURL\n",
    "url = \"https://api.twitter.com/1.1/statuses/update.json\"\n",
    "\n",
    "\n",
    "def tweet(image,text):\n",
    "    # ツイート本文\n",
    "    files = {\n",
    "        \"status\": text, \"media[]\": open(image, \"rb\")\n",
    "    }\n",
    "    \n",
    "    # OAuth認証で POST method で投稿\n",
    "    twitter = OAuth1Session(CK, CS, AT, AS)\n",
    "    req = twitter.post(url, params = params)\n",
    "    # レスポンスを確認\n",
    "    if req.status_code == 200:\n",
    "        return (\"OK\")\n",
    "    else:\n",
    "        return (\"Error: %d\" % req.status_code)\n"
   ]
  }
 ],
 "metadata": {
  "kernelspec": {
   "display_name": "Python 3",
   "language": "python",
   "name": "python3"
  },
  "language_info": {
   "codemirror_mode": {
    "name": "ipython",
    "version": 3
   },
   "file_extension": ".py",
   "mimetype": "text/x-python",
   "name": "python",
   "nbconvert_exporter": "python",
   "pygments_lexer": "ipython3",
   "version": "3.5.1"
  }
 },
 "nbformat": 4,
 "nbformat_minor": 0
}
