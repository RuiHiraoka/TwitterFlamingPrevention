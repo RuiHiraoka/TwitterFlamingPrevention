{
 "cells": [
  {
   "cell_type": "code",
   "execution_count": 13,
   "metadata": {
    "collapsed": false
   },
   "outputs": [
    {
     "data": {
      "text/plain": [
       "False"
      ]
     },
     "execution_count": 13,
     "metadata": {},
     "output_type": "execute_result"
    }
   ],
   "source": [
    "import MeCab\n",
    "from nude import Nude\n",
    "\n",
    "#ツイートの内容の単語のうち、ネガティブなものを自動検出する\n",
    "def tweetchecknegative(text):\n",
    "    mecab = MeCab.Tagger ()\n",
    "    mecab.parse('-Owakati')\n",
    "    node = mecab.parseToNode(text)\n",
    "    negativeword = []\n",
    "    \n",
    "    while node:\n",
    "        words = node.feature.split(\",\")\n",
    "        word = words[len(words)-3] \n",
    "        ld = open(\"pn_ja.dic\")\n",
    "        lines = ld.readlines()\n",
    "        ld.close()\n",
    "        for line in lines:\n",
    "            if line.split(\":\")[0]==word:\n",
    "                if float(line.split(\":\")[3]) < -0.9:\n",
    "                    negativeword.append(line.split(\":\")[0])\n",
    "                    break\n",
    "                    \n",
    "        node=node.next\n",
    "    \n",
    "    return negativeword\n",
    "\n",
    "#画像が炎上するかどうかの自動確認\n",
    "#をしたかったが時間に都合上、公序良俗に違反するかの確認\n",
    "def imagecheck(image):\n",
    "    n = Nude(image)\n",
    "    n.parse()\n",
    "    return n.result\n",
    "    \n",
    "\n"
   ]
  },
  {
   "cell_type": "code",
   "execution_count": null,
   "metadata": {
    "collapsed": true
   },
   "outputs": [],
   "source": []
  }
 ],
 "metadata": {
  "kernelspec": {
   "display_name": "Python 3",
   "language": "python",
   "name": "python3"
  },
  "language_info": {
   "codemirror_mode": {
    "name": "ipython",
    "version": 3
   },
   "file_extension": ".py",
   "mimetype": "text/x-python",
   "name": "python",
   "nbconvert_exporter": "python",
   "pygments_lexer": "ipython3",
   "version": "3.5.1"
  }
 },
 "nbformat": 4,
 "nbformat_minor": 0
}
